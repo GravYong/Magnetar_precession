{
 "cells": [
  {
   "cell_type": "code",
   "execution_count": 1,
   "metadata": {},
   "outputs": [],
   "source": [
    "# import package \n",
    "import numpy as np\n",
    "import matplotlib.pyplot as plt\n",
    "from numpy import log10 as lg\n",
    "from numpy import pi as pi\n",
    "from numpy import sin as sin\n",
    "from numpy import cos as cos\n",
    "from scipy.interpolate import interp1d as sp_interp1d\n",
    "from scipy.integrate import odeint\n",
    "from scipy.integrate import solve_ivp\n",
    "from scipy.integrate import ode\n",
    "import warnings\n",
    "import timeit\n",
    "import scipy.optimize as opt\n",
    "from matplotlib import cm\n",
    "from astropy import constants as const\n",
    "from astropy import units as u\n",
    "from scipy.special import lqmn as qmn\n",
    "from __future__ import division\n",
    "import scipy.special as sc\n",
    "from matplotlib.ticker import (MultipleLocator, FormatStrFormatter,\n",
    "                              AutoMinorLocator)\n",
    "from sympy import var, plot_implicit\n",
    "import math\n",
    "from math import radians as radian\n",
    "\n",
    "# customize the plot \n",
    "plt.rcParams['xtick.labelsize'] = 25\n",
    "plt.rcParams['ytick.labelsize'] = 25\n",
    "plt.rcParams['xtick.direction'] = 'in'\n",
    "plt.rcParams['ytick.direction'] = 'in'\n",
    "plt.rcParams['xtick.major.size'] = 8\n",
    "plt.rcParams['ytick.major.size'] = 8\n",
    "plt.rcParams['xtick.minor.size'] = 4\n",
    "plt.rcParams['ytick.minor.size'] = 4\n",
    "plt.rcParams['xtick.top'] = True\n",
    "plt.rcParams['ytick.right'] = True\n",
    "plt.rcParams['axes.labelpad'] = 8.0\n",
    "plt.rcParams['figure.constrained_layout.h_pad'] = 0\n",
    "plt.rcParams['text.usetex'] = True\n",
    "plt.rc('text', usetex=True)\n",
    "plt.rcParams['font.sans-serif'] = ['Times New Roman']\n",
    "plt.tick_params(axis='both', which='minor', labelsize=18)\n",
    "import matplotlib.ticker\n",
    "from matplotlib.ticker import (MultipleLocator, FormatStrFormatter,\n",
    "                               AutoMinorLocator)\n",
    "\n",
    "\n",
    "# introduce constants that I use\n",
    "G=const.G.cgs.value\n",
    "c=const.c.cgs.value\n",
    "Ms=const.M_sun.cgs.value\n",
    "hbar=const.hbar.cgs.value\n",
    "m_n=const.m_n.cgs.value\n",
    "km=10**5\n",
    "yr=(1.0*u.yr).cgs.value\n",
    "plt.close()"
   ]
  },
  {
   "cell_type": "code",
   "execution_count": 7,
   "metadata": {},
   "outputs": [
    {
     "data": {
      "text/plain": [
       "9.1093837015e-28"
      ]
     },
     "execution_count": 7,
     "metadata": {},
     "output_type": "execute_result"
    }
   ],
   "source": [
    "const.hbar.cgs.value\n",
    "const.e.esu.value\n",
    "const.m_e.cgs.value"
   ]
  },
  {
   "cell_type": "code",
   "execution_count": 8,
   "metadata": {},
   "outputs": [
    {
     "data": {
      "text/latex": [
       "$1.6021766 \\times 10^{-9} \\; \\mathrm{erg}$"
      ],
      "text/plain": [
       "<Quantity 1.60217663e-09 erg>"
      ]
     },
     "execution_count": 8,
     "metadata": {},
     "output_type": "execute_result"
    }
   ],
   "source": [
    "(1*u.keV).to(u.erg)"
   ]
  },
  {
   "cell_type": "code",
   "execution_count": null,
   "metadata": {},
   "outputs": [],
   "source": []
  }
 ],
 "metadata": {
  "kernelspec": {
   "display_name": "Python 3",
   "language": "python",
   "name": "python3"
  },
  "language_info": {
   "codemirror_mode": {
    "name": "ipython",
    "version": 3
   },
   "file_extension": ".py",
   "mimetype": "text/x-python",
   "name": "python",
   "nbconvert_exporter": "python",
   "pygments_lexer": "ipython3",
   "version": "3.8.3"
  }
 },
 "nbformat": 4,
 "nbformat_minor": 4
}
