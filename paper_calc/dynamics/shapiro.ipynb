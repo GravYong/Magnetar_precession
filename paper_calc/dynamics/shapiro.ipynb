{
 "cells": [
  {
   "cell_type": "code",
   "execution_count": 1,
   "metadata": {},
   "outputs": [],
   "source": [
    "# import package \n",
    "import numpy as np\n",
    "import matplotlib.pyplot as plt\n",
    "from numpy import log10 as lg\n",
    "from numpy import pi as pi\n",
    "from numpy import sin as sin\n",
    "from numpy import cos as cos\n",
    "from scipy.interpolate import interp1d as sp_interp1d\n",
    "from scipy.integrate import odeint\n",
    "from scipy.integrate import solve_ivp\n",
    "from scipy.integrate import ode\n",
    "import warnings\n",
    "import timeit\n",
    "import scipy.optimize as opt\n",
    "from matplotlib import cm\n",
    "from astropy import constants as const\n",
    "from astropy import units as u\n",
    "from scipy.special import lqmn as qmn\n",
    "from __future__ import division\n",
    "import scipy.special as sc\n",
    "from matplotlib.ticker import (MultipleLocator, FormatStrFormatter,\n",
    "                              AutoMinorLocator)\n",
    "from sympy import var, plot_implicit\n",
    "import math\n",
    "from math import radians as radian\n",
    "\n",
    "# customize the plot \n",
    "plt.rcParams['xtick.labelsize'] = 25\n",
    "plt.rcParams['ytick.labelsize'] = 25\n",
    "plt.rcParams['xtick.direction'] = 'in'\n",
    "plt.rcParams['ytick.direction'] = 'in'\n",
    "plt.rcParams['xtick.major.size'] = 8\n",
    "plt.rcParams['ytick.major.size'] = 8\n",
    "plt.rcParams['xtick.minor.size'] = 4\n",
    "plt.rcParams['ytick.minor.size'] = 4\n",
    "plt.rcParams['xtick.top'] = True\n",
    "plt.rcParams['ytick.right'] = True\n",
    "plt.rcParams['axes.labelpad'] = 8.0\n",
    "plt.rcParams['figure.constrained_layout.h_pad'] = 0\n",
    "plt.rcParams['text.usetex'] = True\n",
    "plt.rc('text', usetex=True)\n",
    "plt.rcParams['font.sans-serif'] = ['Times New Roman']\n",
    "plt.tick_params(axis='both', which='minor', labelsize=18)\n",
    "import matplotlib.ticker\n",
    "from matplotlib.ticker import (MultipleLocator, FormatStrFormatter,\n",
    "                               AutoMinorLocator)\n",
    "\n",
    "\n",
    "# introduce constants that I use\n",
    "G=const.G.cgs.value\n",
    "c=const.c.cgs.value\n",
    "Ms=const.M_sun.cgs.value\n",
    "hbar=const.hbar.cgs.value\n",
    "m_n=const.m_n.cgs.value\n",
    "km=10**5\n",
    "yr=(1.0*u.yr).cgs.value\n",
    "plt.close()"
   ]
  },
  {
   "cell_type": "code",
   "execution_count": 15,
   "metadata": {},
   "outputs": [],
   "source": [
    "def shapiro(mtol,i,Pb,w0,e,x,u):\n",
    "    \n",
    "    Ts=G*Ms/c**3\n",
    "    m2=(Ms/Ts * x**3 / (Pb/2*pi)**2 * mtol**2)**(1/3) / sin(i)\n",
    "    m1=mtol-m2\n",
    "    \n",
    "    n=2*pi/Pb\n",
    "    r=G*m2/c**3\n",
    "\n",
    "    X1=m1/mtol\n",
    "    X2=m2/mtol\n",
    "    s=x * n * (G*mtol*n/c**3)**(-1/3) / X2\n",
    "\n",
    "    \n",
    "    k=3/(1-e**2) * (G*mtol*n/c**3)**(2/3)\n",
    "    wd= 3*n/(1-e**2) * (G*mtol*n/c**3)**(2/3)\n",
    "   \n",
    "    \n",
    "    Ae= 2*np.arctan(np.tan(u/2)*((1+e)/(1-e))**0.5)\n",
    "    \n",
    "    \n",
    "    w=w0 + k * Ae\n",
    "    \n",
    "    delta=-2*r *np.log(1-e*cos(u) - s * (sin(w)*(cos(u)-e) + (1-e**2)**0.5 * cos(w)*sin(u)))\n",
    "    \n",
    "    return delta\n",
    "\n",
    "    "
   ]
  },
  {
   "cell_type": "code",
   "execution_count": 16,
   "metadata": {},
   "outputs": [
    {
     "data": {
      "text/plain": [
       "-4.881852827125459e-06"
      ]
     },
     "execution_count": 16,
     "metadata": {},
     "output_type": "execute_result"
    }
   ],
   "source": [
    "shapiro(2.53*Ms,radian(60),1066136.648,radian(35.0776),0.658369,32.6878,pi)"
   ]
  },
  {
   "cell_type": "code",
   "execution_count": 17,
   "metadata": {
    "scrolled": false
   },
   "outputs": [
    {
     "name": "stderr",
     "output_type": "stream",
     "text": [
      "<ipython-input-15-ef99ce9c6070>:24: RuntimeWarning: invalid value encountered in log\n",
      "  delta=-2*r *np.log(1-e*cos(u) - s * (sin(w)*(cos(u)-e) + (1-e**2)**0.5 * cos(w)*sin(u)))\n"
     ]
    },
    {
     "data": {
      "text/plain": [
       "[<matplotlib.lines.Line2D at 0x7ffd2d4303d0>]"
      ]
     },
     "execution_count": 17,
     "metadata": {},
     "output_type": "execute_result"
    },
    {
     "data": {
      "image/png": "[encoded data removed]",
      "text/plain": [
       "<Figure size 432x288 with 1 Axes>"
      ]
     },
     "metadata": {
      "needs_background": "light"
     },
     "output_type": "display_data"
    }
   ],
   "source": [
    "x=np.linspace(-radian(150),radian(150),360)\n",
    "y=np.zeros(x.size)\n",
    "for i in range(len(x)):\n",
    "    y[i]=shapiro(2.53*Ms,radian(60),1066136.648,radian(35.0776),0.658369,32.6878,x[i])\n",
    "plt.plot(x,y)"
   ]
  },
  {
   "cell_type": "code",
   "execution_count": null,
   "metadata": {},
   "outputs": [],
   "source": []
  }
 ],
 "metadata": {
  "kernelspec": {
   "display_name": "Python 3",
   "language": "python",
   "name": "python3"
  },
  "language_info": {
   "codemirror_mode": {
    "name": "ipython",
    "version": 3
   },
   "file_extension": ".py",
   "mimetype": "text/x-python",
   "name": "python",
   "nbconvert_exporter": "python",
   "pygments_lexer": "ipython3",
   "version": "3.8.3"
  }
 },
 "nbformat": 4,
 "nbformat_minor": 4
}
