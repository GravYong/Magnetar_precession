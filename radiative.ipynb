{
 "cells": [
  {
   "cell_type": "code",
   "execution_count": 1,
   "metadata": {},
   "outputs": [],
   "source": [
    "import numpy as np \n",
    "import matplotlib.pyplot as plt \n",
    "from scipy.integrate import solve_ivp\n",
    "from scipy.integrate import ode \n",
    "from numpy import log10 as lg\n",
    "from numpy import pi as pi\n",
    "from numpy import sin as sin\n",
    "from numpy import cos as cos\n",
    "from numpy import tan as tan\n",
    "from scipy.interpolate import interp1d as sp_interp1d\n",
    "from astropy import constants as const\n",
    "from astropy import units as u\n",
    "import math\n",
    "from math import radians as radian\n",
    "from numpy import linalg as LA\n",
    "from scipy.special import ellipj\n",
    "\n",
    "G=const.G.cgs.value\n",
    "c=const.c.cgs.value\n",
    "Ms=const.M_sun.cgs.value\n",
    "hbar=const.hbar.cgs.value\n",
    "m_n=const.m_n.cgs.value\n",
    "km=10**5\n",
    "yr=(1.0*u.yr).cgs.value\n",
    "\n",
    "# customize the plot \n",
    "plt.rcParams['xtick.labelsize'] = 25\n",
    "plt.rcParams['ytick.labelsize'] = 25\n",
    "plt.rcParams['xtick.direction'] = 'in'\n",
    "plt.rcParams['ytick.direction'] = 'in'\n",
    "plt.rcParams['xtick.major.size'] = 10\n",
    "plt.rcParams['ytick.major.size'] = 10\n",
    "plt.rcParams['xtick.minor.size'] = 4\n",
    "plt.rcParams['ytick.minor.size'] = 4\n",
    "plt.rcParams['xtick.top'] = True\n",
    "plt.rcParams['ytick.right'] = True\n",
    "plt.rcParams['axes.labelpad'] = 8.0\n",
    "plt.rcParams['figure.constrained_layout.h_pad'] = 0\n",
    "plt.rcParams['text.usetex'] = True\n",
    "plt.rc('text', usetex=True)\n",
    "plt.rcParams['font.sans-serif'] = ['Times New Roman']\n",
    "plt.tick_params(axis='both', which='minor', labelsize=18)\n",
    "\n",
    "\n",
    "plt.rcParams['xtick.major.width'] = 3\n",
    "\n",
    "plt.rcParams['xtick.minor.width'] = 2\n",
    "\n",
    "plt.rcParams['ytick.major.width'] = 3\n",
    "\n",
    "plt.rcParams['ytick.minor.width'] = 2\n",
    "plt.close()\n",
    "\n",
    "\"\"\"\n",
    "Convert the radiative precession problem into a triaxial precession case\n",
    "\n",
    "the radiative torque: k, B \n",
    "the configuration of magnetic dipole: chi, eta\n",
    "the intrinsic deformation: epsilon, delta\n",
    "the initial angular velocity in the 1-3 plane: a\n",
    "\n",
    "\"\"\"\n",
    "\n",
    "def effective(k, B, chi, eta, epsilon, delta,a):\n",
    "    \n",
    "    R=10*km\n",
    "    M=1.4*Ms\n",
    "    I0=0.4*M*R**2\n",
    "    I1=1; I2=1+epsilon*delta/(1+delta); I3=1+epsilon\n",
    "    print(I1,I2,I3)\n",
    "    em=np.array([sin(chi)*cos(eta), sin(chi)*sin(eta), cos(eta)])\n",
    "    Im= -1/4 * k * B**2 * R**5 / c**2/I0 * np.tensordot(em, em, axes=0) \n",
    "    print(Im1)\n",
    "    I_body=np.diag((I1,I2,I3))\n",
    "    I_tol=I_body+Im\n",
    "    w, v= LA.eig(I_tol)\n",
    "    index=np.argsort(w)\n",
    "    w=w[index]\n",
    "    v=v[:,index]\n",
    "    Ie1=w[0]; Ie2=w[1]; Ie3=w[2]\n",
    "    deltae=(Ie2-Ie1)/(Ie3-Ie2)\n",
    "    epsilone=(Ie3-Ie1)/Ie1\n",
    "    omega0=np.array([sin(a),0,cos(a)])\n",
    "    omegae01=np.tensordot(omega0, v[:,0],axes=1)\n",
    "    omegae02=np.tensordot(omega0, v[:,1],axes=1)\n",
    "    omegae03=np.tensordot(omega0, v[:,2],axes=1)\n",
    "    omegae0=np.array([omegae01,omegae02, omegae03])\n",
    "    chie=np.arccos(np.tensordot(em, v[:,2],axes=1))\n",
    "    etae=np.arctan2(np.tensordot(em, v[:,1],axes=1), np.tensordot(em, v[:,0],axes=1))\n",
    "\n",
    "\n",
    "    \n",
    "    return w, v, deltae, epsilone, omegae0, chie, etae"
   ]
  },
  {
   "cell_type": "markdown",
   "metadata": {},
   "source": [
    "# Zanazzi & Dong Lai"
   ]
  },
  {
   "cell_type": "code",
   "execution_count": 2,
   "metadata": {},
   "outputs": [],
   "source": [
    "def omegaeff(t, chi, eta, epsilon,epsilonp,a):\n",
    "    \n",
    "    R=10*km\n",
    "    M=1.4*Ms\n",
    "    I0=0.4*M*R**2\n",
    "    I1=1; I2=1; I3=1+epsilon\n",
    "    em=np.array([sin(chi)*cos(eta), sin(chi)*sin(eta), cos(chi)])\n",
    "    Im1=-epsilonp *  np.tensordot(em, em, axes=0) \n",
    "    I_body=np.diag((I1,I2,I3))\n",
    "    I_tol=I_body+Im1\n",
    "    w, v= LA.eig(I_tol)\n",
    "    index=np.argsort(w)\n",
    "    w=w[index]\n",
    "    v=v[:,index]\n",
    "    # v[:,0]=-v[:,0]\n",
    "    # v[:,2]=-v[:,2]\n",
    "    Ie1=w[0]; Ie2=w[1]; Ie3=w[2]\n",
    "    deltae=(Ie2-Ie1)/(Ie3-Ie2)\n",
    "    epsilone=(Ie3-Ie1)/Ie1\n",
    "    omega0=np.array([sin(a),0,cos(a)])\n",
    "    omegae01=np.tensordot(omega0, v[:,0],axes=1)\n",
    "    omegae02=np.tensordot(omega0, v[:,1],axes=1)\n",
    "    omegae03=np.tensordot(omega0, v[:,2],axes=1)\n",
    "    omegae0=np.array([omegae01,omegae02, omegae03])\n",
    "    chie=np.arccos(np.tensordot(em, v[:,2],axes=1))\n",
    "    etae=np.arctan2(np.tensordot(em, v[:,1],axes=1), np.tensordot(em, v[:,0],axes=1))\n",
    "    thetae0=np.arctan2(Ie3*omegae03, (Ie1**2 * omegae01**2 + Ie2**2 * omegae02**2)**(0.5))\n",
    "    omegap=omegae0[2] * epsilone * (1+deltae +deltae * epsilone)**(-0.5)\n",
    "    m=deltae * (1+epsilone)* (tan(thetae0))**2\n",
    "\n",
    "    u1=omegae0[0]*ellipj(omegap*t,m)[1]\n",
    "    u2=\n",
    "    u3=omegae0[2]*ellipj(omegap*t,m)[2]\n",
    "    \n",
    "\n",
    "\n",
    "    return omegae0, u1, u3, u3\n"
   ]
  },
  {
   "cell_type": "code",
   "execution_count": 3,
   "metadata": {},
   "outputs": [],
   "source": [
    "t=np.linspace(0,2*10**12,1000)\n",
    "chi=radian(10); eta=0; epsilon=1e-11; epsilonp=2.4e-12; a=radian(50)\n",
    "u1=np.zeros(t.size); u3=np.zeros(t.size)\n",
    "omegae0, u1,u3=omegaeff(t,chi, eta, epsilon,epsilonp,a)"
   ]
  },
  {
   "cell_type": "code",
   "execution_count": 8,
   "metadata": {},
   "outputs": [
    {
     "data": {
      "text/plain": [
       "(-0.64, -0.56)"
      ]
     },
     "execution_count": 8,
     "metadata": {},
     "output_type": "execute_result"
    },
    {
     "data": {
      "image/png": "[encoded data removed]",
      "text/plain": [
       "<Figure size 576x432 with 1 Axes>"
      ]
     },
     "metadata": {
      "needs_background": "light"
     },
     "output_type": "display_data"
    }
   ],
   "source": [
    "plt.figure(figsize=(8,6))\n",
    "plt.plot(t,u3)\n",
    "plt.minorticks_on()\n",
    "plt.ylim(-0.64,-0.56)"
   ]
  },
  {
   "cell_type": "code",
   "execution_count": 5,
   "metadata": {},
   "outputs": [
    {
     "data": {
      "image/png": "[encoded data removed]",
      "text/plain": [
       "<Figure size 576x432 with 1 Axes>"
      ]
     },
     "metadata": {
      "needs_background": "light"
     },
     "output_type": "display_data"
    }
   ],
   "source": [
    "plt.figure(figsize=(8,6))\n",
    "plt.plot(t,-u1)\n",
    "plt.minorticks_on()"
   ]
  }
 ],
 "metadata": {
  "interpreter": {
   "hash": "c2e69c65247f5e063c2b098cc7ddec60fb2e5743b920e9e7d3cb9d7d778fe015"
  },
  "kernelspec": {
   "display_name": "Python 3",
   "language": "python",
   "name": "python3"
  },
  "language_info": {
   "codemirror_mode": {
    "name": "ipython",
    "version": 3
   },
   "file_extension": ".py",
   "mimetype": "text/x-python",
   "name": "python",
   "nbconvert_exporter": "python",
   "pygments_lexer": "ipython3",
   "version": "3.8.3"
  }
 },
 "nbformat": 4,
 "nbformat_minor": 2
}
